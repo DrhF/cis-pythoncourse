{
 "cells": [
  {
   "cell_type": "markdown",
   "metadata": {
    "slideshow": {
     "slide_type": "slide"
    }
   },
   "source": [
    "<h1>Python. Основные конструкции языка</h1>\n",
    "<ul>\n",
    "<li>Типы данных</li>\n",
    "<li>Переменные</li>\n",
    "<li>Арифметические операции</li>\n",
    "<li>Операции консольного ввода / вывода</li>\n",
    "<li>Условный оператор</li>\n",
    "<li>Операторы цикла</li>\n",
    "</ul>"
   ]
  },
  {
   "cell_type": "markdown",
   "metadata": {
    "nbpresent": {
     "id": "55024a1c-3480-4228-9218-f28b574be786"
    },
    "slideshow": {
     "slide_type": "slide"
    }
   },
   "source": [
    "<h1>Python &ndash; в чём его прелесть?</h1>\n",
    "<ul>\n",
    "<li>Прост в изучении</li>\n",
    "<li>Очень много модулей и библиотек</li>\n",
    "<li>$\\ldots$</li>\n",
    "<li>PROFIT!</li>\n",
    "</ul>"
   ]
  },
  {
   "cell_type": "markdown",
   "metadata": {
    "nbpresent": {
     "id": "0bd576fb-65f8-49fc-95da-c765944c3cbb"
    },
    "slideshow": {
     "slide_type": "slide"
    }
   },
   "source": [
    "<h1>Особенности Python</h1>\n",
    "<ul>\n",
    "<li>Поддержка основных парадигм програмирования</li>\n",
    "<li>Динамическая типизация</li>\n",
    "<li>Автоматическое управление памятью</li>\n",
    "<li>Простой синтаксис</li>\n",
    "</ul>"
   ]
  },
  {
   "cell_type": "markdown",
   "metadata": {
    "nbpresent": {
     "id": "9405198c-3cd9-403f-aec0-28e59bcf876a"
    },
    "slideshow": {
     "slide_type": "slide"
    }
   },
   "source": [
    "<h1>Типы данных</h1>"
   ]
  },
  {
   "cell_type": "markdown",
   "metadata": {
    "slideshow": {
     "slide_type": "fragment"
    }
   },
   "source": [
    "Целочисленный (int)"
   ]
  },
  {
   "cell_type": "code",
   "execution_count": 2,
   "metadata": {
    "nbpresent": {
     "id": "6d11e410-c546-43a6-9120-e6c42406e63e"
    },
    "slideshow": {
     "slide_type": "fragment"
    }
   },
   "outputs": [
    {
     "name": "stdout",
     "output_type": "stream",
     "text": [
      "5\n"
     ]
    }
   ],
   "source": [
    "print(3 + 2)"
   ]
  },
  {
   "cell_type": "markdown",
   "metadata": {
    "slideshow": {
     "slide_type": "fragment"
    }
   },
   "source": [
    "С плавающей точкой (float)"
   ]
  },
  {
   "cell_type": "code",
   "execution_count": 3,
   "metadata": {
    "slideshow": {
     "slide_type": "fragment"
    }
   },
   "outputs": [
    {
     "name": "stdout",
     "output_type": "stream",
     "text": [
      "4.0\n"
     ]
    }
   ],
   "source": [
    "print(2.5 + 1.5)"
   ]
  },
  {
   "cell_type": "markdown",
   "metadata": {
    "slideshow": {
     "slide_type": "fragment"
    }
   },
   "source": [
    "Комплексные числа (complex)"
   ]
  },
  {
   "cell_type": "code",
   "execution_count": 4,
   "metadata": {
    "slideshow": {
     "slide_type": "fragment"
    }
   },
   "outputs": [
    {
     "data": {
      "text/plain": [
       "(2-3j)"
      ]
     },
     "execution_count": 4,
     "metadata": {},
     "output_type": "execute_result"
    }
   ],
   "source": [
    "(2 + 3j).conjugate()"
   ]
  },
  {
   "cell_type": "markdown",
   "metadata": {
    "slideshow": {
     "slide_type": "fragment"
    }
   },
   "source": [
    "Строковой тип (str)"
   ]
  },
  {
   "cell_type": "code",
   "execution_count": 5,
   "metadata": {
    "slideshow": {
     "slide_type": "fragment"
    }
   },
   "outputs": [
    {
     "name": "stdout",
     "output_type": "stream",
     "text": [
      "352\n"
     ]
    }
   ],
   "source": [
    "print('35' + '2')"
   ]
  },
  {
   "cell_type": "markdown",
   "metadata": {
    "slideshow": {
     "slide_type": "slide"
    }
   },
   "source": [
    "<h1>Переменные</h1>"
   ]
  },
  {
   "cell_type": "markdown",
   "metadata": {
    "slideshow": {
     "slide_type": "fragment"
    }
   },
   "source": [
    "Простое присваивание"
   ]
  },
  {
   "cell_type": "code",
   "execution_count": null,
   "metadata": {
    "collapsed": true,
    "slideshow": {
     "slide_type": "fragment"
    }
   },
   "outputs": [],
   "source": [
    "x = 18\n",
    "y = 15\n",
    "\n",
    "tmp = x\n",
    "x = y\n",
    "y = tmp\n",
    "\n",
    "print(x, y)"
   ]
  },
  {
   "cell_type": "markdown",
   "metadata": {
    "slideshow": {
     "slide_type": "fragment"
    }
   },
   "source": [
    "Множественное присваивание"
   ]
  },
  {
   "cell_type": "code",
   "execution_count": null,
   "metadata": {
    "collapsed": true,
    "slideshow": {
     "slide_type": "fragment"
    }
   },
   "outputs": [],
   "source": [
    "x, y = 18, 15\n",
    "x, y = y, x\n",
    "print(x, y)"
   ]
  },
  {
   "cell_type": "markdown",
   "metadata": {
    "slideshow": {
     "slide_type": "slide"
    }
   },
   "source": [
    "<h1>Арифметические операции</h1>"
   ]
  },
  {
   "cell_type": "markdown",
   "metadata": {
    "slideshow": {
     "slide_type": "fragment"
    }
   },
   "source": [
    "Сложение, вычитание, умножение, деление"
   ]
  },
  {
   "cell_type": "code",
   "execution_count": null,
   "metadata": {
    "collapsed": true,
    "scrolled": true,
    "slideshow": {
     "slide_type": "fragment"
    }
   },
   "outputs": [],
   "source": [
    "print(12 * 4)"
   ]
  },
  {
   "cell_type": "code",
   "execution_count": null,
   "metadata": {
    "collapsed": true,
    "slideshow": {
     "slide_type": "fragment"
    }
   },
   "outputs": [],
   "source": [
    "print('13 / 3 = ', 13 / 3, sep='')"
   ]
  },
  {
   "cell_type": "markdown",
   "metadata": {
    "slideshow": {
     "slide_type": "subslide"
    }
   },
   "source": [
    "<h1>Арифметические операции</h1>"
   ]
  },
  {
   "cell_type": "markdown",
   "metadata": {
    "slideshow": {
     "slide_type": "fragment"
    }
   },
   "source": [
    "// Целочисленное деление"
   ]
  },
  {
   "cell_type": "code",
   "execution_count": null,
   "metadata": {
    "collapsed": true,
    "slideshow": {
     "slide_type": "fragment"
    }
   },
   "outputs": [],
   "source": [
    "print(25 / 4)\n",
    "print(25 // 4)"
   ]
  },
  {
   "cell_type": "markdown",
   "metadata": {
    "slideshow": {
     "slide_type": "fragment"
    }
   },
   "source": [
    "% Остаток от деления"
   ]
  },
  {
   "cell_type": "code",
   "execution_count": null,
   "metadata": {
    "collapsed": true,
    "slideshow": {
     "slide_type": "fragment"
    }
   },
   "outputs": [],
   "source": [
    "print(25 % 4)\n",
    "print(-5 % 4)"
   ]
  },
  {
   "cell_type": "markdown",
   "metadata": {
    "slideshow": {
     "slide_type": "subslide"
    }
   },
   "source": [
    "<h1>Арифметические операции</h1>"
   ]
  },
  {
   "cell_type": "markdown",
   "metadata": {
    "slideshow": {
     "slide_type": "fragment"
    }
   },
   "source": [
    "** Возведение в степень"
   ]
  },
  {
   "cell_type": "code",
   "execution_count": null,
   "metadata": {
    "collapsed": true,
    "slideshow": {
     "slide_type": "fragment"
    }
   },
   "outputs": [],
   "source": [
    "print(25 ** 5)\n",
    "print(36 ** 0.5)\n",
    "print((1j) ** 0.5)"
   ]
  },
  {
   "cell_type": "markdown",
   "metadata": {
    "slideshow": {
     "slide_type": "fragment"
    }
   },
   "source": [
    "math.sqrt() — квадратный корень"
   ]
  },
  {
   "cell_type": "code",
   "execution_count": null,
   "metadata": {
    "collapsed": true,
    "slideshow": {
     "slide_type": "fragment"
    }
   },
   "outputs": [],
   "source": [
    "import math\n",
    "\n",
    "print(math.sqrt(2))"
   ]
  },
  {
   "cell_type": "markdown",
   "metadata": {
    "slideshow": {
     "slide_type": "slide"
    }
   },
   "source": [
    "<h1>Консольный ввод / вывод</h1>"
   ]
  },
  {
   "cell_type": "markdown",
   "metadata": {
    "slideshow": {
     "slide_type": "fragment"
    }
   },
   "source": [
    "Ввод с консоли:"
   ]
  },
  {
   "cell_type": "code",
   "execution_count": null,
   "metadata": {
    "collapsed": true,
    "slideshow": {
     "slide_type": "fragment"
    }
   },
   "outputs": [],
   "source": [
    "s = input('Введите ваше имя: ')\n",
    "print('Здравствуйте, ', s, '!', sep='')"
   ]
  },
  {
   "cell_type": "markdown",
   "metadata": {
    "slideshow": {
     "slide_type": "fragment"
    }
   },
   "source": [
    "Форматированный вывод:"
   ]
  },
  {
   "cell_type": "code",
   "execution_count": null,
   "metadata": {
    "collapsed": true,
    "slideshow": {
     "slide_type": "fragment"
    }
   },
   "outputs": [],
   "source": [
    "result = 13 / 3\n",
    "print('13 / 3 = ', format(result), sep='')\n",
    "print('13 / 3 = {0:.3f}'.format(result))"
   ]
  },
  {
   "cell_type": "markdown",
   "metadata": {
    "slideshow": {
     "slide_type": "subslide"
    }
   },
   "source": [
    "<h1>Консольный ввод / вывод</h1>"
   ]
  },
  {
   "cell_type": "markdown",
   "metadata": {
    "slideshow": {
     "slide_type": "fragment"
    }
   },
   "source": [
    "Приведение типа:"
   ]
  },
  {
   "cell_type": "code",
   "execution_count": null,
   "metadata": {
    "collapsed": true,
    "slideshow": {
     "slide_type": "fragment"
    }
   },
   "outputs": [],
   "source": [
    "x = input()\n",
    "y = input()\n",
    "print(x + y)"
   ]
  },
  {
   "cell_type": "code",
   "execution_count": null,
   "metadata": {
    "collapsed": true,
    "slideshow": {
     "slide_type": "fragment"
    }
   },
   "outputs": [],
   "source": [
    "x = int(input())\n",
    "y = int(input())\n",
    "print(x + y)"
   ]
  },
  {
   "cell_type": "code",
   "execution_count": null,
   "metadata": {
    "collapsed": true,
    "slideshow": {
     "slide_type": "fragment"
    }
   },
   "outputs": [],
   "source": [
    "x = float(input())\n",
    "y = float(input())\n",
    "print(x + y)"
   ]
  },
  {
   "cell_type": "markdown",
   "metadata": {
    "slideshow": {
     "slide_type": "slide"
    }
   },
   "source": [
    "<h1>Задача 1</h1>\n",
    "<p> Молчаливый Боб загадал натуральное число $X$. Джей прибавил к нему 5, возвёл в квадрат, разделил на 3 и вычел 1. В результате Джей получил число $Y$.</p>\n",
    "<p> На вход программы поступает число $Y$. Выведите число $X$.</p>\n",
    "<p> Например, если $Y=26.0$, то $X = 4$. </p>"
   ]
  },
  {
   "cell_type": "code",
   "execution_count": null,
   "metadata": {
    "collapsed": true,
    "slideshow": {
     "slide_type": "fragment"
    }
   },
   "outputs": [],
   "source": [
    "import math\n",
    "\n",
    "y = float(input())\n",
    "x = int(math.sqrt((y + 1) * 3) - 5)\n",
    "\n",
    "print(x)"
   ]
  },
  {
   "cell_type": "markdown",
   "metadata": {
    "slideshow": {
     "slide_type": "slide"
    }
   },
   "source": [
    "<h1>Проверка условий</h1>"
   ]
  },
  {
   "cell_type": "markdown",
   "metadata": {
    "slideshow": {
     "slide_type": "fragment"
    }
   },
   "source": [
    "Обычный if-else"
   ]
  },
  {
   "cell_type": "code",
   "execution_count": null,
   "metadata": {
    "collapsed": true,
    "slideshow": {
     "slide_type": "fragment"
    }
   },
   "outputs": [],
   "source": [
    "s = input(\"Введите пароль: \")\n",
    "\n",
    "if len(s) > 10:\n",
    "    print(s)\n",
    "else:\n",
    "    print('Слишком мало букв!')"
   ]
  },
  {
   "cell_type": "markdown",
   "metadata": {
    "slideshow": {
     "slide_type": "subslide"
    }
   },
   "source": [
    "<h1>Проверка условий</h1>"
   ]
  },
  {
   "cell_type": "markdown",
   "metadata": {
    "slideshow": {
     "slide_type": "fragment"
    }
   },
   "source": [
    "Однострочный if-else"
   ]
  },
  {
   "cell_type": "code",
   "execution_count": null,
   "metadata": {
    "collapsed": true,
    "slideshow": {
     "slide_type": "fragment"
    }
   },
   "outputs": [],
   "source": [
    "s = input()\n",
    "print(s if len(s) < 10 else 'Слишком много букв!')"
   ]
  },
  {
   "cell_type": "markdown",
   "metadata": {
    "slideshow": {
     "slide_type": "subslide"
    }
   },
   "source": [
    "<h1>Проверка условий</h1>"
   ]
  },
  {
   "cell_type": "markdown",
   "metadata": {
    "slideshow": {
     "slide_type": "fragment"
    }
   },
   "source": [
    "Конструкция if-elif-else"
   ]
  },
  {
   "cell_type": "code",
   "execution_count": null,
   "metadata": {
    "collapsed": true,
    "slideshow": {
     "slide_type": "fragment"
    }
   },
   "outputs": [],
   "source": [
    "s = input(\"Введите пароль: \")\n",
    "\n",
    "if len(s) > 10:\n",
    "    print('Слишком много букв!')\n",
    "elif len(s) < 5:\n",
    "    print('Слишком мало букв!')\n",
    "else:\n",
    "    print(s)"
   ]
  },
  {
   "cell_type": "markdown",
   "metadata": {
    "slideshow": {
     "slide_type": "slide"
    }
   },
   "source": [
    "<h1>Задача 2</h1>\n",
    "<p>На вход поступают целые числа $A$, $B$, $C$.</p>\n",
    "<p>Вывести все корни уравнения $Ax^2 + Bx + C$.<br>\n",
    "В случае отсутствия корней вывести сообщение &laquo;Нет корней&raquo;.</p>"
   ]
  },
  {
   "cell_type": "code",
   "execution_count": null,
   "metadata": {
    "collapsed": true,
    "slideshow": {
     "slide_type": "fragment"
    }
   },
   "outputs": [],
   "source": [
    "# Чтение параметров, записанных через пробел\n",
    "\n",
    "a, b, c = input().split()\n",
    "\n",
    "print(a)\n",
    "print(b)\n",
    "print(c)"
   ]
  },
  {
   "cell_type": "markdown",
   "metadata": {
    "slideshow": {
     "slide_type": "subslide"
    }
   },
   "source": [
    "<h1>Решение</h1>"
   ]
  },
  {
   "cell_type": "code",
   "execution_count": null,
   "metadata": {
    "collapsed": true,
    "slideshow": {
     "slide_type": "fragment"
    }
   },
   "outputs": [],
   "source": [
    "import math\n",
    "\n",
    "a, b, c = input().split()\n",
    "a, b, c = int(a), int(b), int(c)\n",
    "\n",
    "d = b * b - 4 * a * c\n",
    "if d > 0:\n",
    "    x1 = (-b + math.sqrt(d)) / (2 * a)\n",
    "    x2 = (-b - math.sqrt(d)) / (2 * a)\n",
    "    print(x1, x2)\n",
    "elif d == 0:\n",
    "    x = -b / (2 * a)\n",
    "    print(x)\n",
    "else:\n",
    "    print('Нет корней')\n",
    "    "
   ]
  },
  {
   "cell_type": "markdown",
   "metadata": {
    "slideshow": {
     "slide_type": "slide"
    }
   },
   "source": [
    "<h1>Цикл while</h1>"
   ]
  },
  {
   "cell_type": "markdown",
   "metadata": {
    "slideshow": {
     "slide_type": "fragment"
    }
   },
   "source": [
    "<b>Пример</b><br>\n",
    "Вывести все числа Фиббоначи, меньшие 1000."
   ]
  },
  {
   "cell_type": "code",
   "execution_count": null,
   "metadata": {
    "collapsed": true,
    "scrolled": true,
    "slideshow": {
     "slide_type": "fragment"
    }
   },
   "outputs": [],
   "source": [
    "a, b = 1, 1  # Пусть a >= b\n",
    "\n",
    "while a <= 1000:\n",
    "    print(a, end=' ')\n",
    "    a, b = a + b, a"
   ]
  },
  {
   "cell_type": "markdown",
   "metadata": {
    "slideshow": {
     "slide_type": "slide"
    }
   },
   "source": [
    "<h1>Задача 3</h1>\n",
    "<p>На вход поступает натуральное число $A \\geq 10$.</p>\n",
    "\n",
    "Вывести:\n",
    "\n",
    "<ul>\n",
    "    <li>Последнюю цифру числа $A$</li>\n",
    "    <li>Предпоследнюю цифру числа $A$</li>\n",
    "    <li>Сумму цифр числа $A$</li>\n",
    "</ul>"
   ]
  },
  {
   "cell_type": "markdown",
   "metadata": {
    "slideshow": {
     "slide_type": "slide"
    }
   },
   "source": [
    "<h1>Решение</h1>"
   ]
  },
  {
   "cell_type": "code",
   "execution_count": null,
   "metadata": {
    "collapsed": true,
    "slideshow": {
     "slide_type": "fragment"
    }
   },
   "outputs": [],
   "source": [
    "a = int(input())"
   ]
  },
  {
   "cell_type": "code",
   "execution_count": null,
   "metadata": {
    "collapsed": true,
    "slideshow": {
     "slide_type": "fragment"
    }
   },
   "outputs": [],
   "source": [
    "print(a % 10)  # Последняя цифра"
   ]
  },
  {
   "cell_type": "code",
   "execution_count": null,
   "metadata": {
    "collapsed": true,
    "slideshow": {
     "slide_type": "fragment"
    }
   },
   "outputs": [],
   "source": [
    "print((a // 10) % 10)  # Предпоследняя цифра"
   ]
  },
  {
   "cell_type": "code",
   "execution_count": null,
   "metadata": {
    "collapsed": true,
    "scrolled": true,
    "slideshow": {
     "slide_type": "fragment"
    }
   },
   "outputs": [],
   "source": [
    "result = 0\n",
    "\n",
    "while a > 0:\n",
    "    result += a % 10  # То же, что result = result + a % 10\n",
    "    a //= 10          # То же, что result = result // 10\n",
    "    \n",
    "print(result)"
   ]
  },
  {
   "cell_type": "markdown",
   "metadata": {
    "slideshow": {
     "slide_type": "slide"
    }
   },
   "source": [
    "<h1>Задача 4</h1>\n",
    "<p>На вход поступают натуральные числа $A$, $B$.</p>\n",
    "<p>Вывести НОД($A$, $B$).<br>"
   ]
  },
  {
   "cell_type": "markdown",
   "metadata": {
    "slideshow": {
     "slide_type": "fragment"
    }
   },
   "source": [
    "<b>Подсказка 1: </b> в Python есть функции min(a, b) и max(a, b)."
   ]
  },
  {
   "cell_type": "markdown",
   "metadata": {
    "slideshow": {
     "slide_type": "fragment"
    }
   },
   "source": [
    "<b>Подсказка 2: </b> НОД($A$, $B$) = НОД($B$, $A\\,mod\\,B$) для $A \\geq B$."
   ]
  },
  {
   "cell_type": "markdown",
   "metadata": {
    "slideshow": {
     "slide_type": "slide"
    }
   },
   "source": [
    "<h1>Решение</h1>"
   ]
  },
  {
   "cell_type": "code",
   "execution_count": null,
   "metadata": {
    "collapsed": true,
    "slideshow": {
     "slide_type": "fragment"
    }
   },
   "outputs": [],
   "source": [
    "a, b = input().split()\n",
    "a, b = int(a), int(b)\n",
    "a, b = max(a, b), min(a, b)\n",
    "\n",
    "while b > 0:\n",
    "    a, b = b, a % b\n",
    "\n",
    "print(a)"
   ]
  },
  {
   "cell_type": "markdown",
   "metadata": {
    "slideshow": {
     "slide_type": "slide"
    }
   },
   "source": [
    "<h1>Цикл for</h1>"
   ]
  },
  {
   "cell_type": "markdown",
   "metadata": {
    "slideshow": {
     "slide_type": "fragment"
    }
   },
   "source": [
    "<b>Пример</b><br>\n",
    "Вывести все первые буквы слов в строке.\n",
    "Строка состоит из слов, разделённых пробелами."
   ]
  },
  {
   "cell_type": "code",
   "execution_count": null,
   "metadata": {
    "collapsed": true,
    "scrolled": true,
    "slideshow": {
     "slide_type": "fragment"
    }
   },
   "outputs": [],
   "source": [
    "strings = input().split()\n",
    "\n",
    "for s in strings:\n",
    "    print(s[0], end=' ')  # Индексация в строке с нуля"
   ]
  },
  {
   "cell_type": "markdown",
   "metadata": {
    "slideshow": {
     "slide_type": "subslide"
    }
   },
   "source": [
    "<h1>Цикл for</h1>"
   ]
  },
  {
   "cell_type": "markdown",
   "metadata": {
    "slideshow": {
     "slide_type": "fragment"
    }
   },
   "source": [
    "<b>Пример 2</b><br>\n",
    "Вывести все квадраты натуральных чисел до заданного натурального числа включительно."
   ]
  },
  {
   "cell_type": "code",
   "execution_count": null,
   "metadata": {
    "collapsed": true,
    "slideshow": {
     "slide_type": "fragment"
    }
   },
   "outputs": [],
   "source": [
    "number = int(input())\n",
    "\n",
    "for i in range(1, number + 1):\n",
    "    print(i * i, end=' ')  # Индексация в строке с нуля"
   ]
  },
  {
   "cell_type": "markdown",
   "metadata": {
    "slideshow": {
     "slide_type": "slide"
    }
   },
   "source": [
    "<h1>Задача 5</h1>\n",
    "<p>На вход поступают натуральное число $N$.</p>\n",
    "<p>Вывести значение суммы первых $N$ членов разложения числа $e$ в ряд.<br>"
   ]
  },
  {
   "cell_type": "markdown",
   "metadata": {
    "slideshow": {
     "slide_type": "fragment"
    }
   },
   "source": [
    "Подсказка: $e = \\sum\\limits_{n=0}^{\\infty}\\dfrac{1}{n!}$"
   ]
  },
  {
   "cell_type": "markdown",
   "metadata": {
    "slideshow": {
     "slide_type": "slide"
    }
   },
   "source": [
    "<h1>Решение</h1>"
   ]
  },
  {
   "cell_type": "code",
   "execution_count": 3,
   "metadata": {
    "slideshow": {
     "slide_type": "fragment"
    }
   },
   "outputs": [
    {
     "name": "stdout",
     "output_type": "stream",
     "text": [
      "15\n",
      "2.71828182845823\n"
     ]
    }
   ],
   "source": [
    "number = int(input())\n",
    "\n",
    "result = 1\n",
    "product = 1\n",
    "\n",
    "for i in range(1, number):\n",
    "    product *= i\n",
    "    result += 1 / product\n",
    "\n",
    "print(result)"
   ]
  },
  {
   "cell_type": "markdown",
   "metadata": {
    "slideshow": {
     "slide_type": "slide"
    }
   },
   "source": [
    "<h1>Дополнительные материалы:</h1>\n",
    "\n",
    "<ul>\n",
    "    <li><a href=\"https://stepik.org/course/6375\" target=\"_blank\">Задания к нашему курсу</a></li>\n",
    "    <li><a href=\"https://stepik.org/course/67\" target=\"_blank\">Программирование на Python</a>. Курс Санкт-Петербургского института биоинформатики. </li>\n",
    "    <li><a href=\"https://www.coursera.org/learn/python-osnovy-programmirovaniya/home/info\" target=\"_blank\">Основы программирования на Python</a>. Курс высшей школы экономики.</li>\n",
    "    <li><a href=\"https://stepik.org/course/512\" target=\"_blank\">Python: основы и применение</a>. Курс Санкт-Петербургского института биоинформатики.</li>\n",
    "</ul>"
   ]
  },
  {
   "cell_type": "markdown",
   "metadata": {
    "slideshow": {
     "slide_type": "slide"
    }
   },
   "source": [
    "<h1>Работа с Jupyter Notebook</h1>"
   ]
  },
  {
   "cell_type": "markdown",
   "metadata": {
    "slideshow": {
     "slide_type": "fragment"
    }
   },
   "source": [
    "<h3>Установка</h3>\n",
    "\n",
    "<blockquote>conda install jupyter</blockquote>\n",
    "\n",
    "или\n",
    "\n",
    "<blockquote>pip install jupyter</blockquote>"
   ]
  },
  {
   "cell_type": "markdown",
   "metadata": {
    "slideshow": {
     "slide_type": "subslide"
    }
   },
   "source": [
    "<h1>Работа с Jupyter Notebook</h1>"
   ]
  },
  {
   "cell_type": "markdown",
   "metadata": {
    "slideshow": {
     "slide_type": "fragment"
    }
   },
   "source": [
    "<h3>Запуск с рабочего стола Windows</h3>\n",
    "\n",
    "<img src=\"jupyter.png\"></img>\n",
    "\n",
    "Объект: <span style=\"background-color: #EEE\">C:\\Windows\\System32\\cmd.exe /k \"cd D:\\Google Drive & python D:\\Anaconda3\\Scripts\\jupyter-notebook-script.py\"</span><br>\n",
    "Рабочая папка: <span style=\"background-color: #EEE\">D:\\Google Drive</span><br>"
   ]
  },
  {
   "cell_type": "markdown",
   "metadata": {
    "slideshow": {
     "slide_type": "subslide"
    }
   },
   "source": [
    "<h1>Работа с Jupyter Notebook</h1>"
   ]
  },
  {
   "cell_type": "markdown",
   "metadata": {
    "slideshow": {
     "slide_type": "fragment"
    }
   },
   "source": [
    "<h3>Просмотр в режиме презентации</h3>\n",
    "\n",
    "<span style=\"background-color: #EEE\">\n",
    "conda undate setuptools jupyter_core jupyter_client<br>\n",
    "conda install -c damianavila82 rise<br>\n",
    "jupyter-nbextension install rise --py --sys-prefix<br>\n",
    "jupyter-nbextension enable rise --py --sys-prefix\n",
    "</span>\n",
    "\n",
    "<img src=\"jupyter-rise.png\"></img>"
   ]
  }
 ],
 "metadata": {
  "anaconda-cloud": {
   "environment": null,
   "summary": "Lecture 1. Introduction to python.",
   "url": "https://anaconda.org/vl_alexeev/lecture-1"
  },
  "celltoolbar": "Slideshow",
  "kernelspec": {
   "display_name": "Python [default]",
   "language": "python",
   "name": "python3"
  },
  "language_info": {
   "codemirror_mode": {
    "name": "ipython",
    "version": 3
   },
   "file_extension": ".py",
   "mimetype": "text/x-python",
   "name": "python",
   "nbconvert_exporter": "python",
   "pygments_lexer": "ipython3",
   "version": "3.6.3"
  },
  "nbpresent": {
   "slides": {
    "0fab2495-3dc0-4f6a-9fde-8f81ed4396a6": {
     "id": "0fab2495-3dc0-4f6a-9fde-8f81ed4396a6",
     "prev": "3e4aaf49-e956-462c-b70d-6d1948bbb339",
     "regions": {
      "5a524dce-55b3-4689-8081-16b4d67f3346": {
       "attrs": {
        "height": 0.8,
        "width": 0.8,
        "x": 0.1,
        "y": 0.1
       },
       "content": {
        "cell": "6d11e410-c546-43a6-9120-e6c42406e63e",
        "part": "whole"
       },
       "id": "5a524dce-55b3-4689-8081-16b4d67f3346"
      },
      "f9a4c771-47c6-4458-a7da-5865231ddbb9": {
       "attrs": {
        "height": 1,
        "width": 1,
        "x": 0,
        "y": 0
       },
       "content": {
        "cell": "9405198c-3cd9-403f-aec0-28e59bcf876a",
        "part": "whole"
       },
       "id": "f9a4c771-47c6-4458-a7da-5865231ddbb9"
      }
     }
    },
    "3e4aaf49-e956-462c-b70d-6d1948bbb339": {
     "id": "3e4aaf49-e956-462c-b70d-6d1948bbb339",
     "prev": "5f77e686-ed9c-4729-a89b-aafc5b1a3306",
     "regions": {
      "827a9f4b-2264-4073-be63-acdfe9b68036": {
       "attrs": {
        "height": 0.8,
        "width": 0.8,
        "x": 0.1,
        "y": 0.1
       },
       "content": {
        "cell": "0bd576fb-65f8-49fc-95da-c765944c3cbb",
        "part": "whole"
       },
       "id": "827a9f4b-2264-4073-be63-acdfe9b68036"
      }
     }
    },
    "5f77e686-ed9c-4729-a89b-aafc5b1a3306": {
     "id": "5f77e686-ed9c-4729-a89b-aafc5b1a3306",
     "prev": null,
     "regions": {
      "1f0a3eb3-b8ba-4bb7-88e2-6f194bbcd4cf": {
       "attrs": {
        "height": 0.8,
        "width": 0.8,
        "x": 0.1,
        "y": 0.1
       },
       "content": {
        "cell": "55024a1c-3480-4228-9218-f28b574be786",
        "part": "whole"
       },
       "id": "1f0a3eb3-b8ba-4bb7-88e2-6f194bbcd4cf"
      }
     }
    }
   },
   "themes": {
    "default": "44178ee7-33d5-4ea7-a074-351196746cc9",
    "theme": {}
   }
  }
 },
 "nbformat": 4,
 "nbformat_minor": 1
}
